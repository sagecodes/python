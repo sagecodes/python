{
  "nbformat": 4,
  "nbformat_minor": 0,
  "metadata": {
    "colab": {
      "name": "Print-Python.ipynb",
      "version": "0.3.2",
      "provenance": []
    },
    "kernelspec": {
      "name": "python3",
      "display_name": "Python 3"
    }
  },
  "cells": [
    {
      "metadata": {
        "id": "n6OUBHR_Q67x",
        "colab_type": "text"
      },
      "cell_type": "markdown",
      "source": [
        "# Printing\n",
        "\n",
        "Printing in python is a common way to start with the language and helpful for debugging and outputting data to a terminal"
      ]
    },
    {
      "metadata": {
        "id": "v6LICt7_Nlp1",
        "colab_type": "code",
        "colab": {
          "base_uri": "https://localhost:8080/",
          "height": 35
        },
        "outputId": "2779f347-324f-43a8-ff03-72990347ab29"
      },
      "cell_type": "code",
      "source": [
        "print(\"Hello, World\")"
      ],
      "execution_count": 2,
      "outputs": [
        {
          "output_type": "stream",
          "text": [
            "Hello, World\n"
          ],
          "name": "stdout"
        }
      ]
    },
    {
      "metadata": {
        "id": "rvw_9C1oU-Bc",
        "colab_type": "text"
      },
      "cell_type": "markdown",
      "source": [
        ""
      ]
    },
    {
      "metadata": {
        "id": "oXlmG86DS7qr",
        "colab_type": "text"
      },
      "cell_type": "markdown",
      "source": [
        "change ending.\n",
        "By default the print function ends with a new line, we can change that"
      ]
    },
    {
      "metadata": {
        "id": "S_fRGwl9S3uN",
        "colab_type": "code",
        "colab": {}
      },
      "cell_type": "code",
      "source": [
        ""
      ],
      "execution_count": 0,
      "outputs": []
    },
    {
      "metadata": {
        "id": "wBjOsOByTUIu",
        "colab_type": "text"
      },
      "cell_type": "markdown",
      "source": [
        "The above exmples show how to print out a basic [string](). \n",
        "\n",
        "You can print out any data type shown in example below.   \n",
        "\n",
        "If you're new to programming and this looks confusing don't worry. Once you read more about \n",
        "variables and data types it will make sense. :)\n",
        "\n",
        "```\n",
        "# This is formatted as code\n",
        "```\n",
        "\n"
      ]
    },
    {
      "metadata": {
        "id": "ATSYe33iTbQx",
        "colab_type": "code",
        "colab": {
          "base_uri": "https://localhost:8080/",
          "height": 86
        },
        "outputId": "013b3a28-eb71-404f-ce62-4ab3342d985d"
      },
      "cell_type": "code",
      "source": [
        "var_str = \"test\"\n",
        "var_lst = []\n",
        "var_tup = ()\n",
        "var_dic = {}\n",
        "\n",
        "print(var_str)\n",
        "print(var_lst)\n",
        "print(var_tup)\n",
        "print(var_dic)"
      ],
      "execution_count": 3,
      "outputs": [
        {
          "output_type": "stream",
          "text": [
            "test\n",
            "[]\n",
            "()\n",
            "{}\n"
          ],
          "name": "stdout"
        }
      ]
    },
    {
      "metadata": {
        "id": "mSmiQwSeXKrD",
        "colab_type": "text"
      },
      "cell_type": "markdown",
      "source": [
        "This pretty much sums up what you need to know about the print function when you're getting started!\n",
        "\n",
        "If this was your first time programming congrats! You did your first program and on your way to making awesome things for the world!"
      ]
    },
    {
      "metadata": {
        "id": "3BRIIPCEXmQ7",
        "colab_type": "text"
      },
      "cell_type": "markdown",
      "source": [
        "### Challenges\n",
        "\n",
        "Practice what you learned!"
      ]
    },
    {
      "metadata": {
        "id": "jHgNq3zSX6cH",
        "colab_type": "text"
      },
      "cell_type": "markdown",
      "source": [
        "#### Challenge 1\n",
        "\n",
        "Print out your name using the print function"
      ]
    },
    {
      "metadata": {
        "id": "f6oZGqu3Xibs",
        "colab_type": "code",
        "colab": {}
      },
      "cell_type": "code",
      "source": [
        ""
      ],
      "execution_count": 0,
      "outputs": []
    }
  ]
}